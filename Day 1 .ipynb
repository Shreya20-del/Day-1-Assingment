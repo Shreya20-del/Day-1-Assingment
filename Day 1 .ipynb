{
 "cells": [
  {
   "cell_type": "raw",
   "metadata": {},
   "source": [
    "The correct English word is (B) RAINBOW."
   ]
  },
  {
   "cell_type": "code",
   "execution_count": 35,
   "metadata": {},
   "outputs": [
    {
     "name": "stdout",
     "output_type": "stream",
     "text": [
      "LETS UPGRADE\n"
     ]
    }
   ],
   "source": [
    "print(\"LETS UPGRADE\")"
   ]
  },
  {
   "cell_type": "code",
   "execution_count": 5,
   "metadata": {},
   "outputs": [
    {
     "name": "stdout",
     "output_type": "stream",
     "text": [
      "1000 Profit\n"
     ]
    }
   ],
   "source": [
    "def Profit(costprice, sellingprice) : \n",
    "  \n",
    "    profit = (sellingprice - costprice) \n",
    "  \n",
    "    return profit \n",
    "  \n",
    "# Function to calculate Loss. \n",
    "def Loss(costprice, sellingprice) : \n",
    "  \n",
    "    Loss = (costprice - sellingprice) \n",
    "  \n",
    "    return Loss \n",
    "  \n",
    "# Driver code \n",
    "if __name__ == \"__main__\" : \n",
    "  \n",
    "    costprice, sellingprice = 1000, 2000\n",
    "  \n",
    "    if sellingprice == costprice : \n",
    "        print(\"No profit nor Loss\") \n",
    "  \n",
    "    elif sellingprice > costprice : \n",
    "        print(Profit(costprice, sellingprice), \"Profit\") \n",
    "  \n",
    "    else : \n",
    "        print(Loss(costprice, sellingprice), \"Loss\") "
   ]
  },
  {
   "cell_type": "code",
   "execution_count": 21,
   "metadata": {},
   "outputs": [
    {
     "name": "stdout",
     "output_type": "stream",
     "text": [
      "20\n",
      "30\n",
      "Profit\n"
     ]
    }
   ],
   "source": [
    "actual_cost = float(input())\n",
    "sale_amount = float(input())\n",
    " \n",
    "if(actual_cost > sale_amount):\n",
    "    \n",
    "    print(\"Loss\")\n",
    "elif(sale_amount > actual_cost):\n",
    "    \n",
    "    print(\"Profit\")\n",
    "else:\n",
    "    print(\"Neither\")"
   ]
  },
  {
   "cell_type": "code",
   "execution_count": 22,
   "metadata": {},
   "outputs": [
    {
     "name": "stdout",
     "output_type": "stream",
     "text": [
      "20\n",
      "10\n",
      "Loss\n"
     ]
    }
   ],
   "source": [
    "actual_cost = float(input())\n",
    "sale_amount = float(input())\n",
    " \n",
    "if(actual_cost > sale_amount):\n",
    "    \n",
    "    print(\"Loss\")\n",
    "elif(sale_amount > actual_cost):\n",
    "    \n",
    "    print(\"Profit\")\n",
    "else:\n",
    "    print(\"Neither\")"
   ]
  },
  {
   "cell_type": "code",
   "execution_count": 23,
   "metadata": {},
   "outputs": [
    {
     "name": "stdout",
     "output_type": "stream",
     "text": [
      "20\n",
      "20\n",
      "Neither\n"
     ]
    }
   ],
   "source": [
    "actual_cost = float(input())\n",
    "sale_amount = float(input())\n",
    " \n",
    "if(actual_cost > sale_amount):\n",
    "    \n",
    "    print(\"Loss\")\n",
    "elif(sale_amount > actual_cost):\n",
    "    \n",
    "    print(\"Profit\")\n",
    "else:\n",
    "    print(\"Neither\")"
   ]
  },
  {
   "cell_type": "code",
   "execution_count": 24,
   "metadata": {},
   "outputs": [
    {
     "name": "stdout",
     "output_type": "stream",
     "text": [
      "19\n",
      "19\n",
      "Neither\n"
     ]
    }
   ],
   "source": [
    "actual_cost = float(input())\n",
    "sale_amount = float(input())\n",
    " \n",
    "if(actual_cost > sale_amount):\n",
    "    \n",
    "    print(\"Loss\")\n",
    "elif(sale_amount > actual_cost):\n",
    "    \n",
    "    print(\"Profit\")\n",
    "else:\n",
    "    print(\"Neither\")"
   ]
  },
  {
   "cell_type": "code",
   "execution_count": 25,
   "metadata": {},
   "outputs": [
    {
     "name": "stdout",
     "output_type": "stream",
     "text": [
      "23\n",
      "7\n",
      "Loss\n"
     ]
    }
   ],
   "source": [
    "actual_cost = float(input())\n",
    "sale_amount = float(input())\n",
    " \n",
    "if(actual_cost > sale_amount):\n",
    "    \n",
    "    print(\"Loss\")\n",
    "elif(sale_amount > actual_cost):\n",
    "    \n",
    "    print(\"Profit\")\n",
    "else:\n",
    "    print(\"Neither\")\n",
    "    "
   ]
  },
  {
   "cell_type": "code",
   "execution_count": 26,
   "metadata": {},
   "outputs": [
    {
     "name": "stdout",
     "output_type": "stream",
     "text": [
      "19\n",
      "95\n",
      "Profit\n"
     ]
    }
   ],
   "source": [
    "actual_cost = float(input())\n",
    "sale_amount = float(input())\n",
    " \n",
    "if(actual_cost > sale_amount):\n",
    "    \n",
    "    print(\"Loss\")\n",
    "elif(sale_amount > actual_cost):\n",
    "    \n",
    "    print(\"Profit\")\n",
    "else:\n",
    "    print(\"Neither\")\n",
    "    "
   ]
  },
  {
   "cell_type": "code",
   "execution_count": 27,
   "metadata": {},
   "outputs": [
    {
     "name": "stdout",
     "output_type": "stream",
     "text": [
      "20\n",
      "1600.0\n"
     ]
    }
   ],
   "source": [
    "indian_rupees = float(input())\n",
    "euro_rupees = (indian_rupees * 80)\n",
    "print (euro_rupees)"
   ]
  },
  {
   "cell_type": "code",
   "execution_count": 28,
   "metadata": {},
   "outputs": [
    {
     "name": "stdout",
     "output_type": "stream",
     "text": [
      "50\n",
      "4000.0\n"
     ]
    }
   ],
   "source": [
    "indian_rupees = float(input())\n",
    "euro_rupees = (indian_rupees * 80)\n",
    "print (euro_rupees)"
   ]
  },
  {
   "cell_type": "code",
   "execution_count": 29,
   "metadata": {},
   "outputs": [
    {
     "name": "stdout",
     "output_type": "stream",
     "text": [
      "72\n",
      "5760.0\n"
     ]
    }
   ],
   "source": [
    "indian_rupees = float(input())\n",
    "euro_rupees = (indian_rupees * 80)\n",
    "print (euro_rupees)"
   ]
  },
  {
   "cell_type": "code",
   "execution_count": 30,
   "metadata": {},
   "outputs": [
    {
     "name": "stdout",
     "output_type": "stream",
     "text": [
      "7\n",
      "560.0\n"
     ]
    }
   ],
   "source": [
    "indian_rupees = float(input())\n",
    "euro_rupees = (indian_rupees * 80)\n",
    "print (euro_rupees)\n"
   ]
  },
  {
   "cell_type": "code",
   "execution_count": 31,
   "metadata": {},
   "outputs": [
    {
     "name": "stdout",
     "output_type": "stream",
     "text": [
      "35\n",
      "2800.0\n"
     ]
    }
   ],
   "source": [
    "indian_rupees = float(input())\n",
    "euro_rupees = (indian_rupees * 80)\n",
    "print (euro_rupees)"
   ]
  },
  {
   "cell_type": "code",
   "execution_count": 32,
   "metadata": {},
   "outputs": [
    {
     "name": "stdout",
     "output_type": "stream",
     "text": [
      "23\n",
      "1840.0\n"
     ]
    }
   ],
   "source": [
    "indian_rupees = float(input())\n",
    "euro_rupees = (indian_rupees * 80)\n",
    "print (euro_rupees)"
   ]
  },
  {
   "cell_type": "code",
   "execution_count": 33,
   "metadata": {},
   "outputs": [
    {
     "name": "stdout",
     "output_type": "stream",
     "text": [
      "95\n",
      "7600.0\n"
     ]
    }
   ],
   "source": [
    "indian_rupees = float(input())\n",
    "euro_rupees = (indian_rupees * 80)\n",
    "print (euro_rupees)"
   ]
  },
  {
   "cell_type": "code",
   "execution_count": 34,
   "metadata": {},
   "outputs": [
    {
     "name": "stdout",
     "output_type": "stream",
     "text": [
      "18\n",
      "1440.0\n"
     ]
    }
   ],
   "source": [
    "indian_rupees = float(input())\n",
    "euro_rupees = (indian_rupees * 80)\n",
    "print (euro_rupees)"
   ]
  },
  {
   "cell_type": "code",
   "execution_count": null,
   "metadata": {},
   "outputs": [],
   "source": []
  }
 ],
 "metadata": {
  "kernelspec": {
   "display_name": "Python 3",
   "language": "python",
   "name": "python3"
  },
  "language_info": {
   "codemirror_mode": {
    "name": "ipython",
    "version": 3
   },
   "file_extension": ".py",
   "mimetype": "text/x-python",
   "name": "python",
   "nbconvert_exporter": "python",
   "pygments_lexer": "ipython3",
   "version": "3.7.6"
  }
 },
 "nbformat": 4,
 "nbformat_minor": 4
}
